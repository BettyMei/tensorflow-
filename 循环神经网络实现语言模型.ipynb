{
 "cells": [
  {
   "cell_type": "code",
   "execution_count": 12,
   "metadata": {
    "collapsed": false
   },
   "outputs": [
    {
     "ename": "ImportError",
     "evalue": "No module named 'tensorflow.models'",
     "output_type": "error",
     "traceback": [
      "\u001b[0;31m---------------------------------------------------------------------------\u001b[0m",
      "\u001b[0;31mImportError\u001b[0m                               Traceback (most recent call last)",
      "\u001b[0;32m<ipython-input-12-91f5fb553146>\u001b[0m in \u001b[0;36m<module>\u001b[0;34m()\u001b[0m\n\u001b[1;32m      1\u001b[0m \u001b[1;32mimport\u001b[0m \u001b[0mnumpy\u001b[0m \u001b[1;32mas\u001b[0m \u001b[0mnp\u001b[0m\u001b[1;33m\u001b[0m\u001b[0m\n\u001b[1;32m      2\u001b[0m \u001b[1;32mimport\u001b[0m \u001b[0mtensorflow\u001b[0m \u001b[1;32mas\u001b[0m \u001b[0mtf\u001b[0m\u001b[1;33m\u001b[0m\u001b[0m\n\u001b[0;32m----> 3\u001b[0;31m \u001b[1;32mfrom\u001b[0m \u001b[0mtensorflow\u001b[0m\u001b[1;33m.\u001b[0m\u001b[0mmodels\u001b[0m\u001b[1;33m.\u001b[0m\u001b[0mtutorials\u001b[0m\u001b[1;33m.\u001b[0m\u001b[0mrnn\u001b[0m\u001b[1;33m.\u001b[0m\u001b[0mptb\u001b[0m \u001b[1;32mimport\u001b[0m \u001b[0mreader\u001b[0m\u001b[1;33m\u001b[0m\u001b[0m\n\u001b[0m",
      "\u001b[0;31mImportError\u001b[0m: No module named 'tensorflow.models'"
     ]
    }
   ],
   "source": [
    "import numpy as np\n",
    "import tensorflow as tf\n",
    "from tensorflow.models.tutorials.rnn.ptb import reader"
   ]
  },
  {
   "cell_type": "code",
   "execution_count": null,
   "metadata": {
    "collapsed": true
   },
   "outputs": [],
   "source": [
    "DATA_PATH = \"/path/to/ptd/data\" #数据存放的路径\n",
    "HIDDEN_SIZE = 200 #隐藏层大小\n",
    "NUM_LAYERS = 2 #深层循环神经网络中LSTM结构的层数\n",
    "VOCAB_SIZE = 10000 #词典规模，加上语句结束标识符和稀有单词标识符总共一万个单词\n",
    "LEARNING_RATE = 1.0 #学习速率\n",
    "TRAIN_BATCH_SIZE = 20 #训练数据batch的大小\n",
    "TRAIN_NUM_STEP = 35 #训练数据截断长度\n",
    "\n",
    "#在测试时不需要使用截断，所以可以将测试数据看出一个超长的序列\n",
    "EVAL_BATCH_SIZE = 1 #测试数据batch的大小\n",
    "EVAL_NUM_STEP = #测试数据截断长度\n",
    "NUM_EPOCH = 2 #使用训练数据的轮数\n",
    "KEEP_PROB = 0.5 #节点不被Dropout的概率\n",
    "MAX_GRAD_NORM = 5 #用于控制梯度膨胀的参数\n",
    "\n",
    "#通过一个PTBModel类来描述模型，这样方便维护循环神经网络中的状态\n",
    "calss PTBModel(object):\n",
    "    def __init__(self,is_training,batch_size,num_steps):\n",
    "        #记录使用的batch大小和截断长度\n",
    "        self.batch_size = batch_size\n",
    "        self.num_steps = num_steps\n",
    "        #定义输入层\n",
    "        self.input_data = tf.placeholder(tf.int32,[batch_size,num_steps])\n",
    "        #定义预期输出\n",
    "        self.targets = tf.placeholder(tf.int32,[batch_size,num_steps])\n",
    "        #定义使用LSTM结构为循环体结构且使用dropout的深层循环神经网络\n",
    "        lstm_cell = tf.nn.rnn_cell.BasicLSTMCell(HIDDEN_SIZE)\n",
    "        if is_training:\n",
    "            lstm_cell = tf.nn.rnn_cell.DropoutWrapper(lstm_cell,output_keep_prob=KEEP_PROB)\n",
    "        cell = tf.nn.rnn_cell.MultiRNNCell([lstm_cell] * NUM_LAYERS)\n",
    "        \n",
    "        #初始化最初的状态\n",
    "        self.initial_state = cell.zero_state(batch_size,tf.float32)\n",
    "        embedding = tf.get_variable(\"embedding\",[VOCAB_SIZE,HIDDEN_SIZE])\n",
    "        inputs = tf.nn.embedding_lookup(embedding,self.input_data)\n",
    "        \n",
    "        #只在训练时使用dropout\n",
    "        if is_training:inputs = tf.nn.dropout(inputs,KEEP_PROB)\n",
    "        #定义输出列表（先将不同时刻LSTM结构的输出收集起来，再通过一个全连接层得到最终的输出）\n",
    "        outputs = []\n",
    "        #state存储不同batch中LSTM的状态，将其初始化为0\n",
    "        state = self.initial_state\n",
    "        with tf.variable_scope(\"RNN\"):\n",
    "            for time_step in range(num_steps):\n",
    "                \n",
    "        "
   ]
  }
 ],
 "metadata": {
  "anaconda-cloud": {},
  "kernelspec": {
   "display_name": "Python [default]",
   "language": "python",
   "name": "python3"
  },
  "language_info": {
   "codemirror_mode": {
    "name": "ipython",
    "version": 3
   },
   "file_extension": ".py",
   "mimetype": "text/x-python",
   "name": "python",
   "nbconvert_exporter": "python",
   "pygments_lexer": "ipython3",
   "version": "3.5.2"
  }
 },
 "nbformat": 4,
 "nbformat_minor": 2
}
